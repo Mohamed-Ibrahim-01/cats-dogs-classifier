{
 "cells": [
  {
   "cell_type": "markdown",
   "metadata": {},
   "source": [
    "### Dependencies & Constants"
   ]
  },
  {
   "cell_type": "code",
   "execution_count": 33,
   "metadata": {
    "execution": {
     "iopub.execute_input": "2021-08-27T01:30:49.836390Z",
     "iopub.status.busy": "2021-08-27T01:30:49.836011Z",
     "iopub.status.idle": "2021-08-27T01:30:49.843925Z",
     "shell.execute_reply": "2021-08-27T01:30:49.842410Z",
     "shell.execute_reply.started": "2021-08-27T01:30:49.836356Z"
    },
    "executionInfo": {
     "elapsed": 2250,
     "status": "ok",
     "timestamp": 1629980117840,
     "user": {
      "displayName": "Mohamed Ahmed Mohamed Ibrahim",
      "photoUrl": "",
      "userId": "09299980646378126177"
     },
     "user_tz": -120
    },
    "id": "BA7rUSe37Hj3"
   },
   "outputs": [],
   "source": [
    "#Importing all dependencies\n",
    "\n",
    "import numpy as np\n",
    "import matplotlib.pyplot as plt\n",
    "import pandas as pd\n",
    "import zipfile\n",
    "import os\n",
    "import shutil\n",
    "from tensorflow import keras\n",
    "from keras.preprocessing.image import ImageDataGenerator\n",
    "from keras.models import Model,Sequential\n",
    "from keras.layers import Conv2D, MaxPooling2D, Dropout, Dense, Flatten, GlobalAveragePooling2D\n",
    "from keras.applications.inception_resnet_v2 import preprocess_input\n",
    "from tensorflow.keras.optimizers import Adam\n",
    "from sklearn.metrics import ConfusionMatrixDisplay, confusion_matrix\n",
    " "
   ]
  },
  {
   "cell_type": "code",
   "execution_count": 3,
   "metadata": {
    "execution": {
     "iopub.execute_input": "2021-08-26T23:23:39.428621Z",
     "iopub.status.busy": "2021-08-26T23:23:39.428260Z",
     "iopub.status.idle": "2021-08-26T23:23:39.433982Z",
     "shell.execute_reply": "2021-08-26T23:23:39.432547Z",
     "shell.execute_reply.started": "2021-08-26T23:23:39.428589Z"
    },
    "executionInfo": {
     "elapsed": 393,
     "status": "ok",
     "timestamp": 1629980124206,
     "user": {
      "displayName": "Mohamed Ahmed Mohamed Ibrahim",
      "photoUrl": "",
      "userId": "09299980646378126177"
     },
     "user_tz": -120
    },
    "id": "O80eC26tq3aS"
   },
   "outputs": [],
   "source": [
    "PROJECT_DIR = '.'\n",
    "DATA_ZIP = '../input/dogs-vs-cats/train.zip'\n",
    "DATA_DIR = f'{PROJECT_DIR}/train'\n",
    "BATCH_SIZE = 40\n",
    "SEED = 30"
   ]
  },
  {
   "cell_type": "markdown",
   "metadata": {},
   "source": [
    "### Data preprocessing"
   ]
  },
  {
   "cell_type": "code",
   "execution_count": 4,
   "metadata": {
    "execution": {
     "iopub.execute_input": "2021-08-26T23:23:43.956675Z",
     "iopub.status.busy": "2021-08-26T23:23:43.956292Z",
     "iopub.status.idle": "2021-08-26T23:23:57.818481Z",
     "shell.execute_reply": "2021-08-26T23:23:57.817496Z",
     "shell.execute_reply.started": "2021-08-26T23:23:43.956641Z"
    },
    "executionInfo": {
     "elapsed": 1146,
     "status": "ok",
     "timestamp": 1629980181956,
     "user": {
      "displayName": "Mohamed Ahmed Mohamed Ibrahim",
      "photoUrl": "",
      "userId": "09299980646378126177"
     },
     "user_tz": -120
    },
    "id": "eSj71bGUVbPT",
    "outputId": "1d2f1cbc-3b83-4e7d-ffaa-91923fd28688"
   },
   "outputs": [],
   "source": [
    "if not os.path.isdir(DATA_DIR): os.mkdir(DATA_DIR)\n",
    "\n",
    "assert os.path.isfile(DATA_ZIP), f\"Couldn't find the dataset {DATA_ZIP} at {PROJECT_DIR}\"\n",
    "\n",
    "if not any(os.scandir(DATA_DIR)):\n",
    "    with zipfile.ZipFile(DATA_ZIP, 'r') as data_ref:\n",
    "        data_ref.extractall(PROJECT_DIR)\n",
    "else:\n",
    "     print(\"Data directory is not empty, nothing changes!\")"
   ]
  },
  {
   "cell_type": "code",
   "execution_count": 5,
   "metadata": {
    "execution": {
     "iopub.execute_input": "2021-08-26T23:24:02.424514Z",
     "iopub.status.busy": "2021-08-26T23:24:02.424076Z",
     "iopub.status.idle": "2021-08-26T23:24:02.456929Z",
     "shell.execute_reply": "2021-08-26T23:24:02.455592Z",
     "shell.execute_reply.started": "2021-08-26T23:24:02.424479Z"
    },
    "executionInfo": {
     "elapsed": 389,
     "status": "ok",
     "timestamp": 1629980194015,
     "user": {
      "displayName": "Mohamed Ahmed Mohamed Ibrahim",
      "photoUrl": "",
      "userId": "09299980646378126177"
     },
     "user_tz": -120
    },
    "id": "WC6Qn5YpDevr",
    "outputId": "2243900b-2896-4e88-81bd-abb8ecdf20ab"
   },
   "outputs": [
    {
     "name": "stdout",
     "output_type": "stream",
     "text": [
      "25000\n"
     ]
    }
   ],
   "source": [
    "images = pd.DataFrame([f for f in os.listdir(DATA_DIR) if 'jpg' in f], columns =['names'])\n",
    "print(len(images))"
   ]
  },
  {
   "cell_type": "markdown",
   "metadata": {},
   "source": [
    "### Spliting the data to trian, test, dev (validation) in the structure below\n",
    "\n",
    "```\n",
    ".\n",
    "└── train\n",
    "    ├── dev\n",
    "    │   ├── cats\n",
    "    │   └── dogs\n",
    "    ├── test\n",
    "    │   ├── cats\n",
    "    │   └── dogs\n",
    "    └── train\n",
    "        ├── cats\n",
    "        └── dogs\n",
    "```"
   ]
  },
  {
   "cell_type": "code",
   "execution_count": 6,
   "metadata": {
    "execution": {
     "iopub.execute_input": "2021-08-26T23:24:05.794442Z",
     "iopub.status.busy": "2021-08-26T23:24:05.794079Z",
     "iopub.status.idle": "2021-08-26T23:24:06.969543Z",
     "shell.execute_reply": "2021-08-26T23:24:06.962252Z",
     "shell.execute_reply.started": "2021-08-26T23:24:05.794410Z"
    },
    "executionInfo": {
     "elapsed": 101110,
     "status": "error",
     "timestamp": 1629980297164,
     "user": {
      "displayName": "Mohamed Ahmed Mohamed Ibrahim",
      "photoUrl": "",
      "userId": "09299980646378126177"
     },
     "user_tz": -120
    },
    "id": "4htO02FnXTQf",
    "outputId": "fbc41359-62a9-48e0-b11b-a724189ae8c6"
   },
   "outputs": [
    {
     "name": "stdout",
     "output_type": "stream",
     "text": [
      "./train/train has been created\n",
      "./train/train/cats has been created\n",
      "./train/train/dogs has been created\n",
      "./train/dev has been created\n",
      "./train/dev/cats has been created\n",
      "./train/dev/dogs has been created\n",
      "./train/test has been created\n",
      "./train/test/cats has been created\n",
      "./train/test/dogs has been created\n"
     ]
    }
   ],
   "source": [
    "splits = {\"train\":[], \"dev\":[], \"test\":[]}\n",
    "splits[\"train\"], splits[\"dev\"], splits[\"test\"] = \\\n",
    "    np.split(images.sample(frac=1, random_state=SEED), [int(.6*len(images)), int(.8*len(images))])\n",
    "\n",
    "for data_split in splits.keys():\n",
    "\n",
    "    split_dir = f'{DATA_DIR}/{data_split}' \n",
    "    cats_dir, dogs_dir = f'{split_dir}/cats', f'{split_dir}/dogs'\n",
    "\n",
    "    splits_folders = [split_dir, cats_dir, dogs_dir]\n",
    "\n",
    "    for dir in splits_folders:\n",
    "        if not os.path.isdir(dir): \n",
    "            os.mkdir(dir)\n",
    "            print(f'{dir} has been created')\n",
    "\n",
    "    if(any(os.scandir(cats_dir))):\n",
    "        print(\"Data directory is not empty\")\n",
    "        continue\n",
    "\n",
    "    for f in splits[data_split].names :\n",
    "        if 'cat' in f: shutil.move(os.path.join(DATA_DIR, f), os.path.join(cats_dir, f))\n",
    "        \n",
    "    for f in splits[data_split].names :\n",
    "        if 'dog' in f: shutil.move(os.path.join(DATA_DIR, f), os.path.join(dogs_dir, f))"
   ]
  },
  {
   "cell_type": "markdown",
   "metadata": {},
   "source": [
    "### Data Augmentation"
   ]
  },
  {
   "cell_type": "code",
   "execution_count": 7,
   "metadata": {
    "execution": {
     "iopub.execute_input": "2021-08-26T23:24:09.193492Z",
     "iopub.status.busy": "2021-08-26T23:24:09.193128Z",
     "iopub.status.idle": "2021-08-26T23:24:09.201751Z",
     "shell.execute_reply": "2021-08-26T23:24:09.200420Z",
     "shell.execute_reply.started": "2021-08-26T23:24:09.193460Z"
    },
    "executionInfo": {
     "elapsed": 408,
     "status": "ok",
     "timestamp": 1629980355720,
     "user": {
      "displayName": "Mohamed Ahmed Mohamed Ibrahim",
      "photoUrl": "",
      "userId": "09299980646378126177"
     },
     "user_tz": -120
    },
    "id": "GmaPAanDeC3m"
   },
   "outputs": [],
   "source": [
    "train_datagen = ImageDataGenerator(\n",
    "    rotation_range=30,\n",
    "    zoom_range=0.2,\n",
    "    fill_mode=\"nearest\",\n",
    "    horizontal_flip=True,\n",
    "    vertical_flip=True,\n",
    "    preprocessing_function = preprocess_input\n",
    ")\n",
    "\n",
    "dev_test_datagen = ImageDataGenerator(\n",
    "    preprocessing_function = preprocess_input\n",
    ")\n"
   ]
  },
  {
   "cell_type": "markdown",
   "metadata": {},
   "source": [
    "### Loading the images in batches"
   ]
  },
  {
   "cell_type": "code",
   "execution_count": 8,
   "metadata": {
    "execution": {
     "iopub.execute_input": "2021-08-26T23:24:11.065669Z",
     "iopub.status.busy": "2021-08-26T23:24:11.065286Z",
     "iopub.status.idle": "2021-08-26T23:24:12.478156Z",
     "shell.execute_reply": "2021-08-26T23:24:12.477053Z",
     "shell.execute_reply.started": "2021-08-26T23:24:11.065634Z"
    },
    "executionInfo": {
     "elapsed": 59751,
     "status": "ok",
     "timestamp": 1629980475171,
     "user": {
      "displayName": "Mohamed Ahmed Mohamed Ibrahim",
      "photoUrl": "",
      "userId": "09299980646378126177"
     },
     "user_tz": -120
    },
    "id": "ZMgi-8obKNqc",
    "outputId": "5d926de1-12cf-482a-c864-4e780f76f2f9"
   },
   "outputs": [
    {
     "name": "stdout",
     "output_type": "stream",
     "text": [
      "Found 15000 images belonging to 2 classes.\n",
      "Found 5000 images belonging to 2 classes.\n",
      "Found 5000 images belonging to 2 classes.\n"
     ]
    }
   ],
   "source": [
    "train_dataset = train_datagen.flow_from_directory(\n",
    "    f'{DATA_DIR}/train',\n",
    "    color_mode=\"rgb\",\n",
    "    target_size=(299, 299),\n",
    "    shuffle=True,\n",
    "    seed=SEED,\n",
    "    batch_size=BATCH_SIZE,\n",
    "    class_mode='binary',\n",
    "    interpolation='nearest'\n",
    ")\n",
    "\n",
    "dev_dataset = dev_test_datagen.flow_from_directory(\n",
    "    f'{DATA_DIR}/dev',\n",
    "    color_mode=\"rgb\",\n",
    "    target_size=(299, 299),\n",
    "    shuffle=True,\n",
    "    seed=SEED,\n",
    "    batch_size=BATCH_SIZE,\n",
    "    class_mode='binary',\n",
    "    interpolation='nearest'\n",
    ")\n",
    "\n",
    "test_dataset = dev_test_datagen.flow_from_directory(\n",
    "    f'{DATA_DIR}/test',\n",
    "    color_mode=\"rgb\",\n",
    "    target_size=(299, 299),\n",
    "    shuffle=False,\n",
    "    seed=SEED,\n",
    "    batch_size=1,\n",
    "    class_mode='binary',\n",
    "    interpolation='nearest'\n",
    ")"
   ]
  },
  {
   "cell_type": "markdown",
   "metadata": {},
   "source": [
    "### Building the model"
   ]
  },
  {
   "cell_type": "code",
   "execution_count": 9,
   "metadata": {
    "execution": {
     "iopub.execute_input": "2021-08-26T23:24:16.053890Z",
     "iopub.status.busy": "2021-08-26T23:24:16.053498Z",
     "iopub.status.idle": "2021-08-26T23:24:16.061160Z",
     "shell.execute_reply": "2021-08-26T23:24:16.059864Z",
     "shell.execute_reply.started": "2021-08-26T23:24:16.053856Z"
    },
    "executionInfo": {
     "elapsed": 420,
     "status": "ok",
     "timestamp": 1629980481785,
     "user": {
      "displayName": "Mohamed Ahmed Mohamed Ibrahim",
      "photoUrl": "",
      "userId": "09299980646378126177"
     },
     "user_tz": -120
    },
    "id": "2ZLnqxuJm7GK"
   },
   "outputs": [],
   "source": [
    "def prepare_model():\n",
    "\n",
    "    base_model = keras.applications.InceptionResNetV2(\n",
    "        include_top=False,\n",
    "        input_shape=(299, 299, 3),\n",
    "        weights=\"imagenet\",\n",
    "    )\n",
    "    \n",
    "    model = Sequential([\n",
    "        base_model,\n",
    "        GlobalAveragePooling2D(),\n",
    "        Flatten(),\n",
    "        Dense(256, activation = 'relu'),\n",
    "        Dropout(0.2),\n",
    "        Dense(2, activation = 'softmax')\n",
    "    ])\n",
    "\n",
    "    base_model.trainable = False\n",
    "    model.summary()\n",
    "    \n",
    "    return model"
   ]
  },
  {
   "cell_type": "code",
   "execution_count": null,
   "metadata": {
    "execution": {
     "iopub.execute_input": "2021-08-26T15:12:34.744448Z",
     "iopub.status.busy": "2021-08-26T15:12:34.744083Z",
     "iopub.status.idle": "2021-08-26T15:12:41.554281Z",
     "shell.execute_reply": "2021-08-26T15:12:41.552188Z",
     "shell.execute_reply.started": "2021-08-26T15:12:34.744412Z"
    },
    "executionInfo": {
     "elapsed": 17723,
     "status": "ok",
     "timestamp": 1629980503695,
     "user": {
      "displayName": "Mohamed Ahmed Mohamed Ibrahim",
      "photoUrl": "",
      "userId": "09299980646378126177"
     },
     "user_tz": -120
    },
    "id": "z9a5DQN59Fhf",
    "outputId": "d66ba32c-7e72-4046-a84c-d47c6e6ece96"
   },
   "outputs": [],
   "source": [
    "model = prepare_model()"
   ]
  },
  {
   "cell_type": "code",
   "execution_count": 10,
   "metadata": {
    "execution": {
     "iopub.execute_input": "2021-08-26T23:24:34.616724Z",
     "iopub.status.busy": "2021-08-26T23:24:34.616327Z",
     "iopub.status.idle": "2021-08-26T23:25:51.541439Z",
     "shell.execute_reply": "2021-08-26T23:25:51.540235Z",
     "shell.execute_reply.started": "2021-08-26T23:24:34.616676Z"
    }
   },
   "outputs": [
    {
     "name": "stdout",
     "output_type": "stream",
     "text": [
      "Collecting package metadata (current_repodata.json): done\n",
      "Solving environment: done\n",
      "\n",
      "\n",
      "==> WARNING: A newer version of conda exists. <==\n",
      "  current version: 4.9.2\n",
      "  latest version: 4.10.3\n",
      "\n",
      "Please update conda by running\n",
      "\n",
      "    $ conda update -n base conda\n",
      "\n",
      "\n",
      "\n",
      "## Package Plan ##\n",
      "\n",
      "  environment location: /opt/conda\n",
      "\n",
      "  added / updated specs:\n",
      "    - gdown\n",
      "\n",
      "\n",
      "The following packages will be downloaded:\n",
      "\n",
      "    package                    |            build\n",
      "    ---------------------------|-----------------\n",
      "    filelock-3.0.12            |     pyh9f0ad1d_0          10 KB  conda-forge\n",
      "    gdown-3.13.0               |     pyhd8ed1ab_0          12 KB  conda-forge\n",
      "    ------------------------------------------------------------\n",
      "                                           Total:          22 KB\n",
      "\n",
      "The following NEW packages will be INSTALLED:\n",
      "\n",
      "  filelock           conda-forge/noarch::filelock-3.0.12-pyh9f0ad1d_0\n",
      "  gdown              conda-forge/noarch::gdown-3.13.0-pyhd8ed1ab_0\n",
      "\n",
      "\n",
      "\n",
      "Downloading and Extracting Packages\n",
      "filelock-3.0.12      | 10 KB     | ##################################### | 100% \n",
      "gdown-3.13.0         | 12 KB     | ##################################### | 100% \n",
      "Preparing transaction: done\n",
      "Verifying transaction: done\n",
      "Executing transaction: done\n"
     ]
    },
    {
     "name": "stderr",
     "output_type": "stream",
     "text": [
      "Downloading...\n",
      "From: https://drive.google.com/uc?id=1LCZRf4YTb48bwvUujTRvXpJhDFZ7_VOA\n",
      "To: /kaggle/working/trained_inception.h5\n",
      "223MB [00:02, 109MB/s]  \n"
     ]
    },
    {
     "data": {
      "text/plain": [
       "'trained_inception.h5'"
      ]
     },
     "execution_count": 10,
     "metadata": {},
     "output_type": "execute_result"
    }
   ],
   "source": [
    "!conda install -y gdown \n",
    "import gdown \n",
    "url = 'https://drive.google.com/uc?id=1LCZRf4YTb48bwvUujTRvXpJhDFZ7_VOA' \n",
    "output = 'trained_inception.h5'\n",
    "gdown.download(url, output)"
   ]
  },
  {
   "cell_type": "code",
   "execution_count": 11,
   "metadata": {
    "execution": {
     "iopub.execute_input": "2021-08-26T23:26:22.655841Z",
     "iopub.status.busy": "2021-08-26T23:26:22.655427Z",
     "iopub.status.idle": "2021-08-26T23:26:32.976786Z",
     "shell.execute_reply": "2021-08-26T23:26:32.975786Z",
     "shell.execute_reply.started": "2021-08-26T23:26:22.655805Z"
    }
   },
   "outputs": [],
   "source": [
    "trained_mode_path = './trained_inception.h5'\n",
    "reconstructed_model = keras.models.load_model(trained_mode_path)\n",
    "model = reconstructed_model"
   ]
  },
  {
   "cell_type": "markdown",
   "metadata": {},
   "source": [
    "### Training the model "
   ]
  },
  {
   "cell_type": "code",
   "execution_count": null,
   "metadata": {
    "execution": {
     "iopub.execute_input": "2021-08-26T15:12:56.166358Z",
     "iopub.status.busy": "2021-08-26T15:12:56.165982Z",
     "iopub.status.idle": "2021-08-26T15:12:56.191703Z",
     "shell.execute_reply": "2021-08-26T15:12:56.190752Z",
     "shell.execute_reply.started": "2021-08-26T15:12:56.166305Z"
    },
    "executionInfo": {
     "elapsed": 1054,
     "status": "ok",
     "timestamp": 1629980523059,
     "user": {
      "displayName": "Mohamed Ahmed Mohamed Ibrahim",
      "photoUrl": "",
      "userId": "09299980646378126177"
     },
     "user_tz": -120
    },
    "id": "JSygBo4WUFQf"
   },
   "outputs": [],
   "source": [
    "model.compile(\n",
    "    optimizer = Adam(),\n",
    "    loss = 'sparse_categorical_crossentropy',\n",
    "    metrics = ['accuracy']\n",
    ")"
   ]
  },
  {
   "cell_type": "code",
   "execution_count": null,
   "metadata": {
    "execution": {
     "iopub.execute_input": "2021-08-26T15:13:00.745422Z",
     "iopub.status.busy": "2021-08-26T15:13:00.745037Z",
     "iopub.status.idle": "2021-08-26T17:34:09.409922Z",
     "shell.execute_reply": "2021-08-26T17:34:09.409027Z",
     "shell.execute_reply.started": "2021-08-26T15:13:00.74539Z"
    },
    "id": "0KZLj3LDUHus",
    "outputId": "77a51fab-1c55-4faa-b826-16da119d88ff"
   },
   "outputs": [],
   "source": [
    "history = model.fit(\n",
    "    train_dataset, epochs = 20,\n",
    "    validation_data = dev_dataset,\n",
    "    validation_steps= dev_dataset.labels.shape[0]//BATCH_SIZE,\n",
    "    steps_per_epoch= train_dataset.labels.shape[0]//BATCH_SIZE\n",
    ")"
   ]
  },
  {
   "cell_type": "markdown",
   "metadata": {},
   "source": [
    "### Saving the current model"
   ]
  },
  {
   "cell_type": "code",
   "execution_count": 17,
   "metadata": {
    "execution": {
     "iopub.execute_input": "2021-08-27T01:06:12.597118Z",
     "iopub.status.busy": "2021-08-27T01:06:12.596714Z",
     "iopub.status.idle": "2021-08-27T01:06:12.603573Z",
     "shell.execute_reply": "2021-08-27T01:06:12.602436Z",
     "shell.execute_reply.started": "2021-08-27T01:06:12.597082Z"
    },
    "id": "dKfT_v7eWv5j"
   },
   "outputs": [],
   "source": [
    "def save_model(trained_model, model_name='inception_resnet_dog_cats'):\n",
    "    model_id = np.random.randint(0,5000)\n",
    "    model_name = f'{model_name}_{model_id}.h5'\n",
    "    trained_model.save(model_name)\n",
    "    return model_name"
   ]
  },
  {
   "cell_type": "code",
   "execution_count": null,
   "metadata": {
    "execution": {
     "iopub.execute_input": "2021-08-26T17:45:44.343376Z",
     "iopub.status.busy": "2021-08-26T17:45:44.343013Z",
     "iopub.status.idle": "2021-08-26T17:45:45.471323Z",
     "shell.execute_reply": "2021-08-26T17:45:45.470419Z",
     "shell.execute_reply.started": "2021-08-26T17:45:44.343336Z"
    }
   },
   "outputs": [],
   "source": [
    "trained_model_name = save_model(model)\n",
    "from IPython.display import FileLink\n",
    "FileLink(f'{trained_model_name}')"
   ]
  },
  {
   "cell_type": "code",
   "execution_count": 12,
   "metadata": {
    "execution": {
     "iopub.execute_input": "2021-08-26T23:27:02.463031Z",
     "iopub.status.busy": "2021-08-26T23:27:02.462612Z",
     "iopub.status.idle": "2021-08-26T23:27:02.513828Z",
     "shell.execute_reply": "2021-08-26T23:27:02.512600Z",
     "shell.execute_reply.started": "2021-08-26T23:27:02.462997Z"
    }
   },
   "outputs": [
    {
     "name": "stdout",
     "output_type": "stream",
     "text": [
      "Model: \"sequential_3\"\n",
      "_________________________________________________________________\n",
      "Layer (type)                 Output Shape              Param #   \n",
      "=================================================================\n",
      "inception_resnet_v2 (Functio (None, 8, 8, 1536)        54336736  \n",
      "_________________________________________________________________\n",
      "global_average_pooling2d_1 ( (None, 1536)              0         \n",
      "_________________________________________________________________\n",
      "flatten_3 (Flatten)          (None, 1536)              0         \n",
      "_________________________________________________________________\n",
      "dense_6 (Dense)              (None, 256)               393472    \n",
      "_________________________________________________________________\n",
      "dropout_3 (Dropout)          (None, 256)               0         \n",
      "_________________________________________________________________\n",
      "dense_7 (Dense)              (None, 2)                 514       \n",
      "=================================================================\n",
      "Total params: 54,730,722\n",
      "Trainable params: 393,986\n",
      "Non-trainable params: 54,336,736\n",
      "_________________________________________________________________\n"
     ]
    }
   ],
   "source": [
    "model.summary()"
   ]
  },
  {
   "cell_type": "markdown",
   "metadata": {},
   "source": [
    "### Preparing the model for **fine tuning** by disabling the training of BatchNorm layers & training the rest"
   ]
  },
  {
   "cell_type": "code",
   "execution_count": 13,
   "metadata": {
    "execution": {
     "iopub.execute_input": "2021-08-26T23:27:09.796560Z",
     "iopub.status.busy": "2021-08-26T23:27:09.796197Z",
     "iopub.status.idle": "2021-08-26T23:27:09.808846Z",
     "shell.execute_reply": "2021-08-26T23:27:09.807795Z",
     "shell.execute_reply.started": "2021-08-26T23:27:09.796528Z"
    }
   },
   "outputs": [],
   "source": [
    "batch_norm_layers = [x for x in model.get_layer('inception_resnet_v2').layers[::-1] if x.__class__.__name__ == 'BatchNormalization']\n",
    "for layer in batch_norm_layers:\n",
    "    layer.trainable = False"
   ]
  },
  {
   "cell_type": "code",
   "execution_count": 14,
   "metadata": {
    "execution": {
     "iopub.execute_input": "2021-08-26T23:27:12.408629Z",
     "iopub.status.busy": "2021-08-26T23:27:12.408267Z",
     "iopub.status.idle": "2021-08-26T23:27:12.493305Z",
     "shell.execute_reply": "2021-08-26T23:27:12.492115Z",
     "shell.execute_reply.started": "2021-08-26T23:27:12.408598Z"
    }
   },
   "outputs": [
    {
     "name": "stdout",
     "output_type": "stream",
     "text": [
      "Model: \"sequential_3\"\n",
      "_________________________________________________________________\n",
      "Layer (type)                 Output Shape              Param #   \n",
      "=================================================================\n",
      "inception_resnet_v2 (Functio (None, 8, 8, 1536)        54336736  \n",
      "_________________________________________________________________\n",
      "global_average_pooling2d_1 ( (None, 1536)              0         \n",
      "_________________________________________________________________\n",
      "flatten_3 (Flatten)          (None, 1536)              0         \n",
      "_________________________________________________________________\n",
      "dense_6 (Dense)              (None, 256)               393472    \n",
      "_________________________________________________________________\n",
      "dropout_3 (Dropout)          (None, 256)               0         \n",
      "_________________________________________________________________\n",
      "dense_7 (Dense)              (None, 2)                 514       \n",
      "=================================================================\n",
      "Total params: 54,730,722\n",
      "Trainable params: 54,670,178\n",
      "Non-trainable params: 60,544\n",
      "_________________________________________________________________\n"
     ]
    }
   ],
   "source": [
    "model.get_layer('inception_resnet_v2').trainable = True\n",
    "model.summary()"
   ]
  },
  {
   "cell_type": "markdown",
   "metadata": {},
   "source": [
    "### Fine tuning the model"
   ]
  },
  {
   "cell_type": "code",
   "execution_count": 15,
   "metadata": {
    "execution": {
     "iopub.execute_input": "2021-08-26T23:27:20.335899Z",
     "iopub.status.busy": "2021-08-26T23:27:20.335491Z",
     "iopub.status.idle": "2021-08-26T23:27:20.341329Z",
     "shell.execute_reply": "2021-08-26T23:27:20.339802Z",
     "shell.execute_reply.started": "2021-08-26T23:27:20.335863Z"
    }
   },
   "outputs": [],
   "source": [
    "train_dataset.reset()\n",
    "dev_dataset.reset()"
   ]
  },
  {
   "cell_type": "code",
   "execution_count": 16,
   "metadata": {
    "execution": {
     "iopub.execute_input": "2021-08-26T23:27:25.184905Z",
     "iopub.status.busy": "2021-08-26T23:27:25.184497Z",
     "iopub.status.idle": "2021-08-27T01:01:38.641394Z",
     "shell.execute_reply": "2021-08-27T01:01:38.640403Z",
     "shell.execute_reply.started": "2021-08-26T23:27:25.184870Z"
    }
   },
   "outputs": [
    {
     "name": "stdout",
     "output_type": "stream",
     "text": [
      "Epoch 1/10\n",
      "375/375 [==============================] - 598s 2s/step - loss: 0.1640 - accuracy: 0.9358 - val_loss: 0.0187 - val_accuracy: 0.9936\n",
      "Epoch 2/10\n",
      "375/375 [==============================] - 565s 2s/step - loss: 0.0638 - accuracy: 0.9760 - val_loss: 0.0187 - val_accuracy: 0.9930\n",
      "Epoch 3/10\n",
      "375/375 [==============================] - 562s 1s/step - loss: 0.0413 - accuracy: 0.9844 - val_loss: 0.0192 - val_accuracy: 0.9936\n",
      "Epoch 4/10\n",
      "375/375 [==============================] - 562s 1s/step - loss: 0.0350 - accuracy: 0.9866 - val_loss: 0.0183 - val_accuracy: 0.9930\n",
      "Epoch 5/10\n",
      "375/375 [==============================] - 561s 1s/step - loss: 0.0266 - accuracy: 0.9894 - val_loss: 0.0159 - val_accuracy: 0.9940\n",
      "Epoch 6/10\n",
      "375/375 [==============================] - 561s 1s/step - loss: 0.0310 - accuracy: 0.9900 - val_loss: 0.0216 - val_accuracy: 0.9918\n",
      "Epoch 7/10\n",
      "375/375 [==============================] - 563s 1s/step - loss: 0.0222 - accuracy: 0.9931 - val_loss: 0.0201 - val_accuracy: 0.9938\n",
      "Epoch 8/10\n",
      "375/375 [==============================] - 564s 2s/step - loss: 0.0193 - accuracy: 0.9929 - val_loss: 0.0173 - val_accuracy: 0.9944\n",
      "Epoch 9/10\n",
      "375/375 [==============================] - 558s 1s/step - loss: 0.0112 - accuracy: 0.9966 - val_loss: 0.0168 - val_accuracy: 0.9942\n",
      "Epoch 10/10\n",
      "375/375 [==============================] - 558s 1s/step - loss: 0.0092 - accuracy: 0.9966 - val_loss: 0.0159 - val_accuracy: 0.9946\n"
     ]
    },
    {
     "data": {
      "text/plain": [
       "<tensorflow.python.keras.callbacks.History at 0x7f39dc0d2050>"
      ]
     },
     "execution_count": 16,
     "metadata": {},
     "output_type": "execute_result"
    }
   ],
   "source": [
    "model.compile(\n",
    "    optimizer = Adam(1e-5),\n",
    "    loss = 'sparse_categorical_crossentropy',\n",
    "    metrics = ['accuracy']\n",
    ")\n",
    "\n",
    "model.fit(train_dataset, epochs=10, validation_data=dev_dataset)"
   ]
  },
  {
   "cell_type": "code",
   "execution_count": 19,
   "metadata": {
    "execution": {
     "iopub.execute_input": "2021-08-27T01:08:32.817885Z",
     "iopub.status.busy": "2021-08-27T01:08:32.817479Z",
     "iopub.status.idle": "2021-08-27T01:08:35.247562Z",
     "shell.execute_reply": "2021-08-27T01:08:35.246565Z",
     "shell.execute_reply.started": "2021-08-27T01:08:32.817850Z"
    }
   },
   "outputs": [
    {
     "data": {
      "text/html": [
       "<a href='inception_resnet_dog_cats_finetune[99.6]_3483.h5' target='_blank'>inception_resnet_dog_cats_finetune[99.6]_3483.h5</a><br>"
      ],
      "text/plain": [
       "/kaggle/working/inception_resnet_dog_cats_finetune[99.6]_3483.h5"
      ]
     },
     "execution_count": 19,
     "metadata": {},
     "output_type": "execute_result"
    }
   ],
   "source": [
    "trained_model_name = save_model(model, model_name='inception_resnet_dog_cats_finetune[99.6]')\n",
    "from IPython.display import FileLink\n",
    "FileLink(f'{trained_model_name}')"
   ]
  },
  {
   "cell_type": "markdown",
   "metadata": {},
   "source": [
    "### Testing the model "
   ]
  },
  {
   "cell_type": "code",
   "execution_count": 20,
   "metadata": {
    "execution": {
     "iopub.execute_input": "2021-08-27T01:12:15.154281Z",
     "iopub.status.busy": "2021-08-27T01:12:15.153913Z",
     "iopub.status.idle": "2021-08-27T01:15:45.089852Z",
     "shell.execute_reply": "2021-08-27T01:15:45.088789Z",
     "shell.execute_reply.started": "2021-08-27T01:12:15.154249Z"
    }
   },
   "outputs": [
    {
     "name": "stdout",
     "output_type": "stream",
     "text": [
      "5000/5000 [==============================] - 210s 42ms/step - loss: 0.0125 - accuracy: 0.9948\n",
      "Test loss, Test accuracy [0.012539967894554138, 0.9947999715805054]\n"
     ]
    }
   ],
   "source": [
    "results = model.evaluate(test_dataset, batch_size=BATCH_SIZE)\n",
    "print(\"Test loss, Test accuracy\", results)"
   ]
  },
  {
   "cell_type": "code",
   "execution_count": 35,
   "metadata": {
    "execution": {
     "iopub.execute_input": "2021-08-27T01:31:12.905355Z",
     "iopub.status.busy": "2021-08-27T01:31:12.904982Z",
     "iopub.status.idle": "2021-08-27T01:31:12.934540Z",
     "shell.execute_reply": "2021-08-27T01:31:12.933580Z",
     "shell.execute_reply.started": "2021-08-27T01:31:12.905323Z"
    }
   },
   "outputs": [],
   "source": [
    "Y_pred = model.predict(test_dataset, test_dataset.labels.shape[0]//BATCH_SIZE+1)\n",
    "y_pred = np.argmax(Y_pred, axis=1)\n",
    "\n",
    "cm = confusion_matrix(test_dataset.classes, y_pred)"
   ]
  },
  {
   "cell_type": "code",
   "execution_count": 34,
   "metadata": {
    "execution": {
     "iopub.execute_input": "2021-08-27T01:30:57.878081Z",
     "iopub.status.busy": "2021-08-27T01:30:57.877718Z",
     "iopub.status.idle": "2021-08-27T01:30:58.094648Z",
     "shell.execute_reply": "2021-08-27T01:30:58.093471Z",
     "shell.execute_reply.started": "2021-08-27T01:30:57.878038Z"
    }
   },
   "outputs": [
    {
     "data": {
      "text/plain": [
       "<sklearn.metrics._plot.confusion_matrix.ConfusionMatrixDisplay at 0x7f3514cadc50>"
      ]
     },
     "execution_count": 34,
     "metadata": {},
     "output_type": "execute_result"
    },
    {
     "data": {
      "image/png": "[encoded data removed]",
      "text/plain": [
       "<Figure size 432x288 with 2 Axes>"
      ]
     },
     "metadata": {
      "needs_background": "light"
     },
     "output_type": "display_data"
    }
   ],
   "source": [
    "disp = ConfusionMatrixDisplay(confusion_matrix=cm)\n",
    "disp.plot() "
   ]
  }
 ],
 "metadata": {
  "kernelspec": {
   "display_name": "Python 3 (ipykernel)",
   "language": "python",
   "name": "python3"
  },
  "language_info": {
   "codemirror_mode": {
    "name": "ipython",
    "version": 3
   },
   "file_extension": ".py",
   "mimetype": "text/x-python",
   "name": "python",
   "nbconvert_exporter": "python",
   "pygments_lexer": "ipython3",
   "version": "3.10.2"
  }
 },
 "nbformat": 4,
 "nbformat_minor": 4
}
